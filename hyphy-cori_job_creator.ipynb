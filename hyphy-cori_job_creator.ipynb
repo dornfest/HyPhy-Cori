{
 "cells": [
  {
   "cell_type": "markdown",
   "metadata": {},
   "source": [
    "## HyPhy-Cori job creator\n",
    "\n",
    "This has all the correct code to run hyphy on either Cori GPU or CPU (GPU is immediately below)"
   ]
  },
  {
   "cell_type": "code",
   "execution_count": 1,
   "metadata": {},
   "outputs": [
    {
     "name": "stdout",
     "output_type": "stream",
     "text": [
      "\n",
      "The following command must be run outside of the IPython shell:\n",
      "\n",
      "    $ pip install --user git+https://github.com/NERSC/slurm-magic.git\n",
      "\n",
      "The Python package manager (pip) can only be used from outside of IPython.\n",
      "Please reissue the `pip` command in a separate terminal or command prompt.\n",
      "\n",
      "See the Python documentation for more information on how to install packages:\n",
      "\n",
      "    https://docs.python.org/3/installing/\n"
     ]
    }
   ],
   "source": [
    "pip install --user git+https://github.com/NERSC/slurm-magic.git\n"
   ]
  },
  {
   "cell_type": "code",
   "execution_count": 3,
   "metadata": {},
   "outputs": [],
   "source": [
    "%load_ext slurm_magic"
   ]
  },
  {
   "cell_type": "code",
   "execution_count": 115,
   "metadata": {},
   "outputs": [
    {
     "data": {
      "text/plain": [
       "'Submitted batch job 1594309 on cluster escori\\n'"
      ]
     },
     "execution_count": 115,
     "metadata": {},
     "output_type": "execute_result"
    }
   ],
   "source": [
    "%%sbatch\n",
    "#!/bin/bash\n",
    "#SBATCH --clusters=escori\n",
    "#SBATCH -A m3058\n",
    "#SBATCH -C gpu\n",
    "#SBATCH -q regular\n",
    "#SBATCH -t 3:55:00\n",
    "#SBATCH -n 4 #GPUs see: https://docs-dev.nersc.gov/cgpu/examples/\n",
    "#SBATCH --ntasks-per-node=1\n",
    "#SBATCH -c 10\n",
    "#SBATCH --gpus-per-task=1\n",
    "whoami\n",
    "touch /global/cscratch1/sd/dornfest/ben/dummyfile\n",
    "module load cgpu\n",
    "module load python\n",
    "module load tensorflow/intel-1.15.0-py37 #this must be included.\n",
    "export SLURM_CPU_BIND=\"cores\"\n",
    "python /global/cscratch1/sd/dornfest/ben/HyPhy_3-1-21.py  &> hyphy_4n10c-3-1-21-output_a_maxload_20.txt"
   ]
  },
  {
   "cell_type": "code",
   "execution_count": 20,
   "metadata": {},
   "outputs": [
    {
     "data": {
      "text/plain": [
       "'Submitted batch job 39965309\\n'"
      ]
     },
     "execution_count": 20,
     "metadata": {},
     "output_type": "execute_result"
    }
   ],
   "source": []
  },
  {
   "cell_type": "code",
   "execution_count": 118,
   "metadata": {},
   "outputs": [
    {
     "data": {
      "text/html": [
       "<div>\n",
       "<style scoped>\n",
       "    .dataframe tbody tr th:only-of-type {\n",
       "        vertical-align: middle;\n",
       "    }\n",
       "\n",
       "    .dataframe tbody tr th {\n",
       "        vertical-align: top;\n",
       "    }\n",
       "\n",
       "    .dataframe thead th {\n",
       "        text-align: right;\n",
       "    }\n",
       "</style>\n",
       "<table border=\"1\" class=\"dataframe\">\n",
       "  <thead>\n",
       "    <tr style=\"text-align: right;\">\n",
       "      <th></th>\n",
       "      <th>JobID</th>\n",
       "      <th>JobName</th>\n",
       "      <th>Partition</th>\n",
       "      <th>Account</th>\n",
       "      <th>AllocCPUS</th>\n",
       "      <th>State</th>\n",
       "      <th>ExitCode</th>\n",
       "    </tr>\n",
       "  </thead>\n",
       "  <tbody>\n",
       "    <tr>\n",
       "      <th>0</th>\n",
       "      <td>------------</td>\n",
       "      <td>----------</td>\n",
       "      <td>----------</td>\n",
       "      <td>----------</td>\n",
       "      <td>----------</td>\n",
       "      <td>----------</td>\n",
       "      <td>--------</td>\n",
       "    </tr>\n",
       "    <tr>\n",
       "      <th>1</th>\n",
       "      <td>1555351</td>\n",
       "      <td>sbatch</td>\n",
       "      <td>gpu</td>\n",
       "      <td>m3058</td>\n",
       "      <td>320</td>\n",
       "      <td>PENDING</td>\n",
       "      <td>0:0</td>\n",
       "    </tr>\n",
       "    <tr>\n",
       "      <th>2</th>\n",
       "      <td>1594309</td>\n",
       "      <td>sbatch</td>\n",
       "      <td>gpu</td>\n",
       "      <td>m3058</td>\n",
       "      <td>40</td>\n",
       "      <td>RUNNING</td>\n",
       "      <td>0:0</td>\n",
       "    </tr>\n",
       "    <tr>\n",
       "      <th>3</th>\n",
       "      <td>1594309.bat+</td>\n",
       "      <td>batch</td>\n",
       "      <td>m3058</td>\n",
       "      <td>10</td>\n",
       "      <td>RUNNING</td>\n",
       "      <td>0:0</td>\n",
       "      <td>NaN</td>\n",
       "    </tr>\n",
       "    <tr>\n",
       "      <th>4</th>\n",
       "      <td>1594309.ext+</td>\n",
       "      <td>extern</td>\n",
       "      <td>m3058</td>\n",
       "      <td>40</td>\n",
       "      <td>RUNNING</td>\n",
       "      <td>0:0</td>\n",
       "      <td>NaN</td>\n",
       "    </tr>\n",
       "  </tbody>\n",
       "</table>\n",
       "</div>"
      ],
      "text/plain": [
       "          JobID     JobName   Partition     Account   AllocCPUS       State  \\\n",
       "0  ------------  ----------  ----------  ----------  ----------  ----------   \n",
       "1       1555351      sbatch         gpu       m3058         320     PENDING   \n",
       "2       1594309      sbatch         gpu       m3058          40     RUNNING   \n",
       "3  1594309.bat+       batch       m3058          10     RUNNING         0:0   \n",
       "4  1594309.ext+      extern       m3058          40     RUNNING         0:0   \n",
       "\n",
       "   ExitCode  \n",
       "0  --------  \n",
       "1       0:0  \n",
       "2       0:0  \n",
       "3       NaN  \n",
       "4       NaN  "
      ]
     },
     "execution_count": 118,
     "metadata": {},
     "output_type": "execute_result"
    }
   ],
   "source": [
    "#!/bin/bash\n",
    "#SBATCH \n",
    "%sacct --clusters=escori"
   ]
  },
  {
   "cell_type": "code",
   "execution_count": 114,
   "metadata": {},
   "outputs": [
    {
     "data": {
      "text/html": [
       "<div>\n",
       "<style scoped>\n",
       "    .dataframe tbody tr th:only-of-type {\n",
       "        vertical-align: middle;\n",
       "    }\n",
       "\n",
       "    .dataframe tbody tr th {\n",
       "        vertical-align: top;\n",
       "    }\n",
       "\n",
       "    .dataframe thead th {\n",
       "        text-align: right;\n",
       "    }\n",
       "</style>\n",
       "<table border=\"1\" class=\"dataframe\">\n",
       "  <thead>\n",
       "    <tr style=\"text-align: right;\">\n",
       "      <th></th>\n",
       "      <th>JobID</th>\n",
       "      <th>JobName</th>\n",
       "      <th>Partition</th>\n",
       "      <th>Account</th>\n",
       "      <th>AllocCPUS</th>\n",
       "      <th>State</th>\n",
       "      <th>ExitCode</th>\n",
       "    </tr>\n",
       "  </thead>\n",
       "  <tbody>\n",
       "    <tr>\n",
       "      <th>0</th>\n",
       "      <td>------------</td>\n",
       "      <td>----------</td>\n",
       "      <td>----------</td>\n",
       "      <td>----------</td>\n",
       "      <td>----------</td>\n",
       "      <td>----------</td>\n",
       "      <td>--------</td>\n",
       "    </tr>\n",
       "  </tbody>\n",
       "</table>\n",
       "</div>"
      ],
      "text/plain": [
       "          JobID     JobName   Partition     Account   AllocCPUS       State  \\\n",
       "0  ------------  ----------  ----------  ----------  ----------  ----------   \n",
       "\n",
       "   ExitCode  \n",
       "0  --------  "
      ]
     },
     "execution_count": 114,
     "metadata": {},
     "output_type": "execute_result"
    }
   ],
   "source": [
    "%sacct"
   ]
  },
  {
   "cell_type": "markdown",
   "metadata": {},
   "source": [
    "#### usage notes\n",
    "\n",
    "This first example is blindly using the same format as cpu jobs. Notice it is missing both \n",
    "\n",
    "#SBATCH --clusters=escori\n",
    "\n",
    "and\n",
    "\n",
    "module load tensorflow/intel-1.15.0-py37 \n"
   ]
  },
  {
   "cell_type": "code",
   "execution_count": 5,
   "metadata": {},
   "outputs": [
    {
     "data": {
      "text/plain": [
       "('',\n",
       " 'sbatch: error: No architecture specified, cannot estimate job costs.\\nsbatch: error: Batch job submission failed: Unspecified error\\n')"
      ]
     },
     "execution_count": 5,
     "metadata": {},
     "output_type": "execute_result"
    }
   ],
   "source": [
    "# %%sbatch \n",
    "# #!/bin/bash\n",
    "# #SBATCH -C gpu\n",
    "# #SBATCH -q regular\n",
    "# #SBATCH -J debug-2-24-21-hyphy\n",
    "# #SBATCH -n 32\n",
    "# #SBATCH --ntasks-per-node=8\n",
    "# #SBATCH --mail-user=madornfest@lbl.gov\n",
    "# #SBATCH --mail-type=ALL\n",
    "# #SBATCH -t 06:30:00\n",
    "\n",
    "# # #OpenMP settings:\n",
    "# export OMP_NUM_THREADS=1\n",
    "# export OMP_PLACES=threads\n",
    "# export OMP_PROC_BIND=spread\n",
    "# # ##added by hannah\n",
    "# ## module swap craype-mic-knl craype-haswell\n",
    "# module load cgpu\n",
    "# module load python\n",
    "# #run the application:\n",
    "# python /global/cscratch1/sd/dornfest/ben/HyPhy_2-25-21.py &> hyphy-2-25-21-output.txt\n"
   ]
  },
  {
   "cell_type": "markdown",
   "metadata": {},
   "source": [
    "## CPU "
   ]
  },
  {
   "cell_type": "code",
   "execution_count": 31,
   "metadata": {},
   "outputs": [
    {
     "data": {
      "text/plain": [
       "'Submitted batch job 40044154\\n'"
      ]
     },
     "execution_count": 31,
     "metadata": {},
     "output_type": "execute_result"
    }
   ],
   "source": [
    "%%sbatch \n",
    "#!/bin/bash\n",
    "#SBATCH -N 8\n",
    "#SBATCH -C haswell\n",
    "#SBATCH -q regular\n",
    "#SBATCH -J hyphy-regular\n",
    "#SBATCH --mail-user=madornfest@lbl.gov\n",
    "#SBATCH --mail-type=ALL\n",
    "#SBATCH -t 05:30:00\n",
    "\n",
    "#OpenMP settings:\n",
    "# export OMP_NUM_THREADS=1\n",
    "# export OMP_PLACES=threads\n",
    "# export OMP_PROC_BIND=spread\n",
    "##added by hannah\n",
    "module swap craype-mic-knl craype-haswell\n",
    "module load python\n",
    "module load tensorflow/intel-1.15.0-py37 #this must be included.\n",
    "#run the application:\n",
    "python /global/cscratch1/sd/dornfest/ben/HyPhy_2-19-21.py &> HyPhy_2-19-21.txt"
   ]
  },
  {
   "cell_type": "markdown",
   "metadata": {},
   "source": [
    "## Notes\n",
    "\n",
    "3/2/21\n",
    "so hyphy_1n_3-1-21 is using 1gpu and 2 cpus, output b should be outputting the maxloaded files and time to load along with time to run, while max_num=5 and doing 5s/epochs and 2 epochs. First time running output_a we had a timing of 2h:26m for full run. \n",
    "\n",
    "3-2-21 version should be max_num=40, 5s/e and 2e and see how that goes"
   ]
  },
  {
   "cell_type": "code",
   "execution_count": null,
   "metadata": {},
   "outputs": [],
   "source": []
  }
 ],
 "metadata": {
  "kernelspec": {
   "display_name": "PyROOT - Python3",
   "language": "python",
   "name": "pyroot3"
  },
  "language_info": {
   "codemirror_mode": {
    "name": "ipython",
    "version": 3
   },
   "file_extension": ".py",
   "mimetype": "text/x-python",
   "name": "python",
   "nbconvert_exporter": "python",
   "pygments_lexer": "ipython3",
   "version": "3.6.8"
  }
 },
 "nbformat": 4,
 "nbformat_minor": 4
}
